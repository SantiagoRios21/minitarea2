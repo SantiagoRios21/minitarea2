{
  "nbformat": 4,
  "nbformat_minor": 0,
  "metadata": {
    "colab": {
      "name": "minitarea2.ipynb",
      "version": "0.3.2",
      "provenance": []
    },
    "kernelspec": {
      "display_name": "Python 2",
      "language": "python",
      "name": "python2"
    }
  },
  "cells": [
    {
      "metadata": {
        "id": "D3kEnIDtOSVf",
        "colab_type": "text"
      },
      "cell_type": "markdown",
      "source": [
        "# EI2001: Ciencia de Datos en Astronomía\n",
        "\n",
        "**Profesores:** Pía Cortés, Daniela Barrientos, Matías Suazo, Matías Mattamala\n",
        "\n",
        "## Minitarea 2: Uso de NumPy y matplotlib\n",
        "\n",
        "**Objetivos:**\n",
        "\n",
        "1. Poner en práctica el uso de librerías en python (específicamente NumPy y matplotlib)\n",
        "2. Familiarizarse con el concepto de ndarray\n",
        "3. Realizar gráficos personalizados\n",
        "\n",
        "\n",
        "**Instrucciones:**\n",
        "\n",
        "1. Lean cuidadosamente todo lo que viene ahora\n",
        "2. Para hacer esta tarea deben que hacer un **fork** del repositorio en sus cuentas de GitHub.\n",
        "4. Abrir [Google Colab](https://colab.research.google.com) y seleccionar \"abrir un archivo desde GitHub\". Deben seleccionar su cuenta Github y escoger el repositorio que corresponde al fork que hicieron.\n",
        "5. Si todo sale bien, debería abrirse una copia de este notebook en su cuenta de Google Colab.\n",
        "6. Se adjuntan 6 mini actividades a completar. **TODAS** son necesarias y deben completar lo que se va pidiendo.\n",
        "7. Cada vez que completen un ítem, deben guardar un avance en su fork de GitHub, de modo de **respaldar cada avance significativo**. Usen comentarios coherentes con cada respaldo \"Sección 1 completa\", \"Tarea terminada\", no solamente el que pone por defecto.\n",
        "\n"
      ]
    },
    {
      "metadata": {
        "id": "1-jegVddOSVj",
        "colab_type": "text"
      },
      "cell_type": "markdown",
      "source": [
        "## 1. Cargar datos\n",
        "\n",
        "Para esta minitarea trabajaremos con la fotometría de algunas estrellas. El objetivo final de esta actividad es obtener un gráfico llamado **Diagrama de Color-Magnitud (CMD)**, este es una variante del [Diagrama de Hertzsprung Russell](https://en.wikipedia.org/wiki/Hertzsprung%E2%80%93Russell_diagram) (o diagrama HR) cuyo objetivo es ver la distribución en Brillo y Color (Luminosidad y Temperatura para el diagrama HR) de las estrellas de una población. Con este se puede reconocer las distintas etapas evolutivas en las que se encuentran las estrellas, sus edades y metalicidades. \n",
        "\n",
        "\n",
        "Comienza por cargar los datos de una población sintética. En el repositorio se encuentra el archivo de texto llamado **`phot.dat`** que contiene:\n",
        "\n",
        "1. Fotometría en las bandas B, V, R, I (magnitud aparente)\n",
        "2. Temperatura ($log_{10}(T_{eff} / K)$)\n",
        "3. Masa [$M_{\\odot}$]\n",
        "4. Distancia [kpc] \n",
        "\n",
        "\n",
        "* Carga los datos a formato `ndarray` en la variable `datos` e inspecciona su forma y tamaño, como tambien las diferentes columnas."
      ]
    },
    {
      "metadata": {
        "id": "DOlNYqhnOSVm",
        "colab_type": "code",
        "outputId": "68be925c-3543-4124-a0ad-339a596f7cf1",
        "colab": {
          "base_uri": "https://localhost:8080/",
          "height": 52
        }
      },
      "cell_type": "code",
      "source": [
        "import numpy as np\n",
        "\n",
        "# Carga los datos a un ndarray\n",
        "\n",
        "archivo = 'https://raw.githubusercontent.com/astrodatos/minitarea2/master/phot.dat'\n",
        "datos = np.loadtxt(archivo)\n",
        "print(datos.shape)\n",
        "print(datos.size)\n",
        "\n",
        "\n",
        "# Inspecciona su forma y tamaño"
      ],
      "execution_count": 2,
      "outputs": [
        {
          "output_type": "stream",
          "text": [
            "(5298, 7)\n",
            "37086\n"
          ],
          "name": "stdout"
        }
      ]
    },
    {
      "metadata": {
        "id": "QuGDuySjOSVr",
        "colab_type": "text"
      },
      "cell_type": "markdown",
      "source": [
        "## 2. Histogramas\n",
        "\n",
        "El siguiente paso es inspeccionar los elementos en las diferentes columnas. Para ello crearás histogramas de algunas variables de interés. \n",
        "\n",
        "* Haz una figura con dos gráficos, uno al lado del otro, que contengan:\n",
        "\n",
        "    1. Un histograma con las distribuciones de las magnitudes en las bandas B y V\n",
        "    2. Un histograma con la distribución de masas\n",
        "\n",
        "No olvides poner nombres a los ejes, titulos, leyendas, etc. Se creativo en el estilo de tu gráfico!"
      ]
    },
    {
      "metadata": {
        "id": "VQjmjQr0OSVt",
        "colab_type": "code",
        "colab": {
          "base_uri": "https://localhost:8080/",
          "height": 1279
        },
        "outputId": "b52c4b12-a02d-4656-f1fa-4105db707836"
      },
      "cell_type": "code",
      "source": [
        "#Plotear histogramas de cada columna\n",
        "\n",
        "import matplotlib.pyplot as plt\n",
        "%matplotlib inline\n",
        "bandaB=datos[:,0]\n",
        "bandaV=datos[:,1]\n",
        "distancias=datos[:,6]\n",
        "\n",
        "fig, ax = plt.subplots(figsize=(20,5),ncols=2)\n",
        "ax[0].hist(bandaB,100,color='green')\n",
        "plt.ylabel('Frecuencia')\n",
        "plt.xlabel('Magnitud de la banda'+'V')\n",
        "ax[1].hist(bandaV,100,color='red')\n",
        "plt.xlabel('Magnitud banda'+)\n",
        "plt.ylabel('Frecuencia')\n",
        "plt.figure()\n",
        "plt.hist(distancias,100)\n"
      ],
      "execution_count": 19,
      "outputs": [
        {
          "output_type": "execute_result",
          "data": {
            "text/plain": [
              "(array([1.000e+00, 0.000e+00, 0.000e+00, 0.000e+00, 0.000e+00, 0.000e+00,\n",
              "        0.000e+00, 1.000e+00, 2.000e+00, 1.000e+01, 6.000e+01, 2.450e+02,\n",
              "        6.700e+02, 1.171e+03, 1.197e+03, 7.710e+02, 2.870e+02, 7.500e+01,\n",
              "        1.400e+01, 2.000e+00, 0.000e+00, 0.000e+00, 1.000e+00, 0.000e+00,\n",
              "        2.000e+00, 4.000e+00, 2.000e+00, 5.000e+00, 4.000e+00, 3.000e+00,\n",
              "        2.000e+00, 4.000e+00, 9.000e+00, 3.000e+00, 5.000e+00, 7.000e+00,\n",
              "        5.000e+00, 4.000e+00, 1.200e+01, 9.000e+00, 1.600e+01, 8.000e+00,\n",
              "        7.000e+00, 1.600e+01, 1.500e+01, 1.500e+01, 1.700e+01, 1.700e+01,\n",
              "        2.500e+01, 2.100e+01, 2.300e+01, 2.300e+01, 2.000e+01, 3.000e+01,\n",
              "        2.300e+01, 3.700e+01, 1.800e+01, 2.100e+01, 2.700e+01, 2.300e+01,\n",
              "        1.900e+01, 2.700e+01, 1.100e+01, 2.300e+01, 2.000e+01, 2.400e+01,\n",
              "        1.200e+01, 1.300e+01, 1.400e+01, 1.100e+01, 7.000e+00, 1.100e+01,\n",
              "        9.000e+00, 7.000e+00, 2.300e+01, 9.000e+00, 8.000e+00, 9.000e+00,\n",
              "        5.000e+00, 1.000e+01, 8.000e+00, 7.000e+00, 3.000e+00, 1.000e+00,\n",
              "        2.000e+00, 3.000e+00, 1.000e+00, 0.000e+00, 1.000e+00, 1.000e+00,\n",
              "        1.000e+00, 2.000e+00, 1.000e+00, 2.000e+00, 1.000e+00, 1.000e+00,\n",
              "        1.000e+00, 0.000e+00, 0.000e+00, 1.000e+00]),\n",
              " array([1.99578392, 2.06685927, 2.13793462, 2.20900997, 2.28008532,\n",
              "        2.35116067, 2.42223602, 2.49331137, 2.56438672, 2.63546207,\n",
              "        2.70653742, 2.77761277, 2.84868812, 2.91976347, 2.99083882,\n",
              "        3.06191417, 3.13298952, 3.20406487, 3.27514022, 3.34621557,\n",
              "        3.41729092, 3.48836627, 3.55944162, 3.63051697, 3.70159232,\n",
              "        3.77266767, 3.84374302, 3.91481837, 3.98589372, 4.05696907,\n",
              "        4.12804442, 4.19911977, 4.27019512, 4.34127047, 4.41234582,\n",
              "        4.48342117, 4.55449652, 4.62557187, 4.69664722, 4.76772257,\n",
              "        4.83879792, 4.90987327, 4.98094862, 5.05202397, 5.12309932,\n",
              "        5.19417467, 5.26525002, 5.33632537, 5.40740072, 5.47847607,\n",
              "        5.54955142, 5.62062677, 5.69170212, 5.76277747, 5.83385282,\n",
              "        5.90492817, 5.97600352, 6.04707887, 6.11815422, 6.18922957,\n",
              "        6.26030492, 6.33138027, 6.40245562, 6.47353097, 6.54460632,\n",
              "        6.61568167, 6.68675702, 6.75783237, 6.82890772, 6.89998307,\n",
              "        6.97105842, 7.04213377, 7.11320912, 7.18428447, 7.25535982,\n",
              "        7.32643517, 7.39751052, 7.46858587, 7.53966122, 7.61073657,\n",
              "        7.68181192, 7.75288727, 7.82396262, 7.89503797, 7.96611332,\n",
              "        8.03718867, 8.10826402, 8.17933937, 8.25041472, 8.32149007,\n",
              "        8.39256542, 8.46364077, 8.53471612, 8.60579147, 8.67686682,\n",
              "        8.74794217, 8.81901752, 8.89009287, 8.96116822, 9.03224357,\n",
              "        9.10331892]),\n",
              " <a list of 100 Patch objects>)"
            ]
          },
          "metadata": {
            "tags": []
          },
          "execution_count": 19
        },
        {
          "output_type": "display_data",
          "data": {
            "image/png": "[encoded data removed]",
            "text/plain": [
              "<Figure size 1440x360 with 2 Axes>"
            ]
          },
          "metadata": {
            "tags": []
          }
        },
        {
          "output_type": "display_data",
          "data": {
            "image/png": "[encoded data removed]",
            "text/plain": [
              "<Figure size 432x288 with 1 Axes>"
            ]
          },
          "metadata": {
            "tags": []
          }
        }
      ]
    },
    {
      "metadata": {
        "id": "QbDWADGJOSVy",
        "colab_type": "text"
      },
      "cell_type": "markdown",
      "source": [
        "## 3. Filtrar datos\n",
        "\n",
        "Como te habrás dado cuenta hay dos distribuciones de distancia. La mayoría de las estrellas corresponden a la población sintética creada, mientras que el resto son estrellas de fondo. Para estudiar nuestro cúmulo, primero debemos filtrar las estrellas que no pertenecen a él. \n",
        "\n",
        "* Haz una copia del set de datos originales en la variable `datos_filtrados` y sólo utiliza las estrellas que cumplan con un criterio basado en el histograma anterior.\n",
        "* Imprime en pantalla el tamaño original del set de datos y del nuevo filtrado con el siguiente formato: _\"El set original contenía X estrellas, luego de filtrar quedaron X\"_\n"
      ]
    },
    {
      "metadata": {
        "id": "nX14UbbHOSV0",
        "colab_type": "code",
        "colab": {}
      },
      "cell_type": "code",
      "source": [
        "#Filtrar por distancia\n",
        "\n",
        "datos_filtrados = \n",
        "\n",
        "\n",
        "print()"
      ],
      "execution_count": 0,
      "outputs": []
    },
    {
      "metadata": {
        "id": "29gB8YdYOSV4",
        "colab_type": "text"
      },
      "cell_type": "markdown",
      "source": [
        "## 4. Función Magnitud Absoluta\n",
        "\n",
        "Para hacer el CMD necesitamos la magnitud absoluta de nuestras estrellas. Para esto crearemos una función que la calcule.\n",
        "\n",
        "* Crea la función **`mag_abs(mag_ap, dist)`** de la siguiente forma:\n",
        "    * **Input:** \n",
        "        1. `mag_ap`: ndarray de magnitudes aparentes\n",
        "        2. `dist`: ndarray de distancias en unidades de [parsec]\n",
        "    * **Output:**\n",
        "        1. `mag_abs`: ndarray de magnitudes absolutas calculadas como: $M = m - 5 \\log_{10} (d_{pc}) + 5 $"
      ]
    },
    {
      "metadata": {
        "id": "fQEsQGInOSV6",
        "colab_type": "code",
        "colab": {}
      },
      "cell_type": "code",
      "source": [
        "#Funcion mag_abs(mag, dist)\n",
        "\n",
        "def mag_abs(mag_ap, dist):\n",
        "    \n",
        "    \n",
        "    return "
      ],
      "execution_count": 0,
      "outputs": []
    },
    {
      "metadata": {
        "id": "Z4wWFkBaOSV-",
        "colab_type": "text"
      },
      "cell_type": "markdown",
      "source": [
        "## 5. CMD\n",
        "\n",
        "Ahora podemos graficar nuestro Diagrama Color Magnitud. \n",
        "\n",
        "* Crea los siguientes arreglos:\n",
        "    1. `MV`: magnitud absoluta en la banda V\n",
        "    2. `color`: resta entre las magnitudes B y V (B-V)\n",
        "* Grafica MV vs color como se muestra en la siguiente [figura](https://www.astro.rug.nl/~ahelmi/galaxies_course/class_II/47tuc.gif). (**Hint: pon atención a los ejes)"
      ]
    },
    {
      "metadata": {
        "id": "NqcA1CzDOSV_",
        "colab_type": "code",
        "colab": {}
      },
      "cell_type": "code",
      "source": [
        "#Crear arrays MV y color\n",
        "\n",
        "\n",
        "#plot cmd\n"
      ],
      "execution_count": 0,
      "outputs": []
    },
    {
      "metadata": {
        "id": "3iH7-ceDOSWG",
        "colab_type": "text"
      },
      "cell_type": "markdown",
      "source": [
        "## 6. Densidades y otros\n",
        "\n",
        "Ahora crearemos gráficos con un poco más de información en color. \n",
        "* Haz una figura con dos gráficos, uno al lado del otro:\n",
        "    1. `MV vs color`, poninedo las masas de cada estrella en color (recuerda la barra de colores)\n",
        "    2. `MV vs color`, poniendo la Temperatura de cada estrella en color\n",
        "* Haz una figura con un gráfico que contenga:\n",
        "    1. [Histograma en 2D](https://matplotlib.org/api/_as_gen/matplotlib.pyplot.hist2d.html) con ejes `MV vs color` (esta figura muestra la densidad de estrellas en el espacio `MV vs color`)\n",
        "    \n",
        "No olvides poner **SIEMPRE** ejes a tus figuras, titulos, leyendas, etc. Elige mapas de colores donde se noten las características de los gráficos."
      ]
    },
    {
      "metadata": {
        "id": "8CR_El_wOSWH",
        "colab_type": "code",
        "colab": {}
      },
      "cell_type": "code",
      "source": [
        "# plot cmd + masa / smd + temp"
      ],
      "execution_count": 0,
      "outputs": []
    },
    {
      "metadata": {
        "id": "46cUPz6kOSWM",
        "colab_type": "code",
        "colab": {}
      },
      "cell_type": "code",
      "source": [
        "# plot cmd hist2D"
      ],
      "execution_count": 0,
      "outputs": []
    }
  ]
}